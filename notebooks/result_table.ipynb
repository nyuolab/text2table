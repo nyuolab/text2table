{
 "cells": [
  {
   "cell_type": "code",
   "execution_count": 1,
   "metadata": {},
   "outputs": [
    {
     "data": {
      "text/html": [
       "<div>\n",
       "<style scoped>\n",
       "    .dataframe tbody tr th:only-of-type {\n",
       "        vertical-align: middle;\n",
       "    }\n",
       "\n",
       "    .dataframe tbody tr th {\n",
       "        vertical-align: top;\n",
       "    }\n",
       "\n",
       "    .dataframe thead th {\n",
       "        text-align: right;\n",
       "    }\n",
       "</style>\n",
       "<table border=\"1\" class=\"dataframe\">\n",
       "  <thead>\n",
       "    <tr style=\"text-align: right;\">\n",
       "      <th></th>\n",
       "      <th></th>\n",
       "      <th>PROC</th>\n",
       "      <th>PROC+CPT</th>\n",
       "      <th>PROC+DRG</th>\n",
       "      <th>PROC+DIAG</th>\n",
       "    </tr>\n",
       "  </thead>\n",
       "  <tbody>\n",
       "    <tr>\n",
       "      <th rowspan=\"2\" valign=\"top\">BERT</th>\n",
       "      <th>original</th>\n",
       "      <td>0.0098</td>\n",
       "      <td>0.0094</td>\n",
       "      <td>0.0091</td>\n",
       "      <td>0.0097</td>\n",
       "    </tr>\n",
       "    <tr>\n",
       "      <th>CorrLoss</th>\n",
       "      <td>0.0102</td>\n",
       "      <td>0.0099</td>\n",
       "      <td>0.0088</td>\n",
       "      <td>0.0087</td>\n",
       "    </tr>\n",
       "    <tr>\n",
       "      <th rowspan=\"2\" valign=\"top\">RoBERTa</th>\n",
       "      <th>original</th>\n",
       "      <td>0.0097</td>\n",
       "      <td>0.0089</td>\n",
       "      <td>0.0087</td>\n",
       "      <td>0.0088</td>\n",
       "    </tr>\n",
       "    <tr>\n",
       "      <th>CorrLoss</th>\n",
       "      <td>0.0095</td>\n",
       "      <td>0.0095</td>\n",
       "      <td>0.0098</td>\n",
       "      <td>0.0089</td>\n",
       "    </tr>\n",
       "    <tr>\n",
       "      <th rowspan=\"2\" valign=\"top\">Longformer</th>\n",
       "      <th>original</th>\n",
       "      <td>0.0088</td>\n",
       "      <td>0.0088</td>\n",
       "      <td>0.0095</td>\n",
       "      <td>0.0085</td>\n",
       "    </tr>\n",
       "    <tr>\n",
       "      <th>CorrLoss</th>\n",
       "      <td>0.0094</td>\n",
       "      <td>0.0085</td>\n",
       "      <td>0.0091</td>\n",
       "      <td>0.0078</td>\n",
       "    </tr>\n",
       "  </tbody>\n",
       "</table>\n",
       "</div>"
      ],
      "text/plain": [
       "                       PROC PROC+CPT PROC+DRG PROC+DIAG\n",
       "BERT       original  0.0098   0.0094   0.0091    0.0097\n",
       "           CorrLoss  0.0102   0.0099   0.0088    0.0087\n",
       "RoBERTa    original  0.0097   0.0089   0.0087    0.0088\n",
       "           CorrLoss  0.0095   0.0095   0.0098    0.0089\n",
       "Longformer original  0.0088   0.0088   0.0095    0.0085\n",
       "           CorrLoss  0.0094   0.0085   0.0091    0.0078"
      ]
     },
     "execution_count": 1,
     "metadata": {},
     "output_type": "execute_result"
    }
   ],
   "source": [
    "from utils.summary_table import summary\n",
    "df = summary(\"PROC\")\n",
    "df"
   ]
  },
  {
   "cell_type": "code",
   "execution_count": 2,
   "metadata": {},
   "outputs": [
    {
     "name": "stdout",
     "output_type": "stream",
     "text": [
      "\\begin{tabular}{llllll}\n",
      "\\toprule\n",
      "           &          &    PROC & PROC+CPT & PROC+DRG & PROC+DIAG \\\\\n",
      "\\midrule\n",
      "BERT & original &  0.0098 &   0.0094 &   0.0091 &    0.0097 \\\\\n",
      "           & CorrLoss &  0.0102 &   0.0099 &   0.0088 &    0.0087 \\\\\n",
      "RoBERTa & original &  0.0097 &   0.0089 &   0.0087 &    0.0088 \\\\\n",
      "           & CorrLoss &  0.0095 &   0.0095 &   0.0098 &    0.0089 \\\\\n",
      "Longformer & original &  0.0088 &   0.0088 &   0.0095 &    0.0085 \\\\\n",
      "           & CorrLoss &  0.0094 &   0.0085 &   0.0091 &    0.0078 \\\\\n",
      "\\bottomrule\n",
      "\\end{tabular}\n",
      "\n"
     ]
    },
    {
     "name": "stderr",
     "output_type": "stream",
     "text": [
      "/tmp/ipykernel_55906/2350534188.py:1: FutureWarning: In future versions `DataFrame.to_latex` is expected to utilise the base implementation of `Styler.to_latex` for formatting and rendering. The arguments signature may therefore change. It is recommended instead to use `DataFrame.style.to_latex` which also contains additional functionality.\n",
      "  print(df.to_latex())\n"
     ]
    }
   ],
   "source": [
    "print(df.to_latex())"
   ]
  },
  {
   "cell_type": "code",
   "execution_count": 3,
   "metadata": {},
   "outputs": [
    {
     "data": {
      "text/html": [
       "<div>\n",
       "<style scoped>\n",
       "    .dataframe tbody tr th:only-of-type {\n",
       "        vertical-align: middle;\n",
       "    }\n",
       "\n",
       "    .dataframe tbody tr th {\n",
       "        vertical-align: top;\n",
       "    }\n",
       "\n",
       "    .dataframe thead th {\n",
       "        text-align: right;\n",
       "    }\n",
       "</style>\n",
       "<table border=\"1\" class=\"dataframe\">\n",
       "  <thead>\n",
       "    <tr style=\"text-align: right;\">\n",
       "      <th></th>\n",
       "      <th></th>\n",
       "      <th>DIAG</th>\n",
       "      <th>DIAG+CPT</th>\n",
       "      <th>DIAG+DRG</th>\n",
       "      <th>DIAG+PROC</th>\n",
       "    </tr>\n",
       "  </thead>\n",
       "  <tbody>\n",
       "    <tr>\n",
       "      <th rowspan=\"2\" valign=\"top\">BERT</th>\n",
       "      <th>original</th>\n",
       "      <td>0.0068</td>\n",
       "      <td>0.0066</td>\n",
       "      <td>0.0066</td>\n",
       "      <td>0.0067</td>\n",
       "    </tr>\n",
       "    <tr>\n",
       "      <th>CorrLoss</th>\n",
       "      <td>0.0066</td>\n",
       "      <td>0.0069</td>\n",
       "      <td>0.0069</td>\n",
       "      <td>0.0068</td>\n",
       "    </tr>\n",
       "    <tr>\n",
       "      <th rowspan=\"2\" valign=\"top\">RoBERTa</th>\n",
       "      <th>original</th>\n",
       "      <td>0.0069</td>\n",
       "      <td>0.0065</td>\n",
       "      <td>0.0062</td>\n",
       "      <td>0.0065</td>\n",
       "    </tr>\n",
       "    <tr>\n",
       "      <th>CorrLoss</th>\n",
       "      <td>0.0071</td>\n",
       "      <td>0.0071</td>\n",
       "      <td>0.0066</td>\n",
       "      <td>0.0065</td>\n",
       "    </tr>\n",
       "    <tr>\n",
       "      <th rowspan=\"2\" valign=\"top\">Longformer</th>\n",
       "      <th>original</th>\n",
       "      <td>0.0072</td>\n",
       "      <td>0.0069</td>\n",
       "      <td>0.007</td>\n",
       "      <td>0.0071</td>\n",
       "    </tr>\n",
       "    <tr>\n",
       "      <th>CorrLoss</th>\n",
       "      <td>0.007</td>\n",
       "      <td>0.0068</td>\n",
       "      <td>0.0076</td>\n",
       "      <td>0.0071</td>\n",
       "    </tr>\n",
       "  </tbody>\n",
       "</table>\n",
       "</div>"
      ],
      "text/plain": [
       "                       DIAG DIAG+CPT DIAG+DRG DIAG+PROC\n",
       "BERT       original  0.0068   0.0066   0.0066    0.0067\n",
       "           CorrLoss  0.0066   0.0069   0.0069    0.0068\n",
       "RoBERTa    original  0.0069   0.0065   0.0062    0.0065\n",
       "           CorrLoss  0.0071   0.0071   0.0066    0.0065\n",
       "Longformer original  0.0072   0.0069    0.007    0.0071\n",
       "           CorrLoss   0.007   0.0068   0.0076    0.0071"
      ]
     },
     "execution_count": 3,
     "metadata": {},
     "output_type": "execute_result"
    }
   ],
   "source": [
    "df = summary(\"DIAG\")\n",
    "df"
   ]
  },
  {
   "cell_type": "code",
   "execution_count": 4,
   "metadata": {},
   "outputs": [
    {
     "name": "stdout",
     "output_type": "stream",
     "text": [
      "\\begin{tabular}{llllll}\n",
      "\\toprule\n",
      "           &          &    DIAG & DIAG+CPT & DIAG+DRG & DIAG+PROC \\\\\n",
      "\\midrule\n",
      "BERT & original &  0.0068 &   0.0066 &   0.0066 &    0.0067 \\\\\n",
      "           & CorrLoss &  0.0066 &   0.0069 &   0.0069 &    0.0068 \\\\\n",
      "RoBERTa & original &  0.0069 &   0.0065 &   0.0062 &    0.0065 \\\\\n",
      "           & CorrLoss &  0.0071 &   0.0071 &   0.0066 &    0.0065 \\\\\n",
      "Longformer & original &  0.0072 &   0.0069 &    0.007 &    0.0071 \\\\\n",
      "           & CorrLoss &   0.007 &   0.0068 &   0.0076 &    0.0071 \\\\\n",
      "\\bottomrule\n",
      "\\end{tabular}\n",
      "\n"
     ]
    },
    {
     "name": "stderr",
     "output_type": "stream",
     "text": [
      "/tmp/ipykernel_55906/2350534188.py:1: FutureWarning: In future versions `DataFrame.to_latex` is expected to utilise the base implementation of `Styler.to_latex` for formatting and rendering. The arguments signature may therefore change. It is recommended instead to use `DataFrame.style.to_latex` which also contains additional functionality.\n",
      "  print(df.to_latex())\n"
     ]
    }
   ],
   "source": [
    "print(df.to_latex())"
   ]
  },
  {
   "cell_type": "code",
   "execution_count": 5,
   "metadata": {},
   "outputs": [
    {
     "data": {
      "text/html": [
       "<div>\n",
       "<style scoped>\n",
       "    .dataframe tbody tr th:only-of-type {\n",
       "        vertical-align: middle;\n",
       "    }\n",
       "\n",
       "    .dataframe tbody tr th {\n",
       "        vertical-align: top;\n",
       "    }\n",
       "\n",
       "    .dataframe thead th {\n",
       "        text-align: right;\n",
       "    }\n",
       "</style>\n",
       "<table border=\"1\" class=\"dataframe\">\n",
       "  <thead>\n",
       "    <tr style=\"text-align: right;\">\n",
       "      <th></th>\n",
       "      <th></th>\n",
       "      <th>PROC</th>\n",
       "      <th>PROC+CPT</th>\n",
       "      <th>PROC+DRG</th>\n",
       "      <th>PROC+DIAG</th>\n",
       "    </tr>\n",
       "  </thead>\n",
       "  <tbody>\n",
       "    <tr>\n",
       "      <th rowspan=\"2\" valign=\"top\">BERT</th>\n",
       "      <th>original</th>\n",
       "      <td>0.4528</td>\n",
       "      <td>0.397</td>\n",
       "      <td>0.3939</td>\n",
       "      <td>0.408</td>\n",
       "    </tr>\n",
       "    <tr>\n",
       "      <th>CorrLoss</th>\n",
       "      <td>0.4037</td>\n",
       "      <td>0.3594</td>\n",
       "      <td>0.3272</td>\n",
       "      <td>0.363</td>\n",
       "    </tr>\n",
       "    <tr>\n",
       "      <th rowspan=\"2\" valign=\"top\">RoBERTa</th>\n",
       "      <th>original</th>\n",
       "      <td>0.4421</td>\n",
       "      <td>0.4009</td>\n",
       "      <td>0.3884</td>\n",
       "      <td>0.4116</td>\n",
       "    </tr>\n",
       "    <tr>\n",
       "      <th>CorrLoss</th>\n",
       "      <td>0.3736</td>\n",
       "      <td>0.3236</td>\n",
       "      <td>0.2816</td>\n",
       "      <td>0.3692</td>\n",
       "    </tr>\n",
       "    <tr>\n",
       "      <th rowspan=\"2\" valign=\"top\">Longformer</th>\n",
       "      <th>original</th>\n",
       "      <td>0.4712</td>\n",
       "      <td>0.4227</td>\n",
       "      <td>0.3886</td>\n",
       "      <td>0.4219</td>\n",
       "    </tr>\n",
       "    <tr>\n",
       "      <th>CorrLoss</th>\n",
       "      <td>0.4139</td>\n",
       "      <td>0.335</td>\n",
       "      <td>0.212</td>\n",
       "      <td>0.3549</td>\n",
       "    </tr>\n",
       "  </tbody>\n",
       "</table>\n",
       "</div>"
      ],
      "text/plain": [
       "                       PROC PROC+CPT PROC+DRG PROC+DIAG\n",
       "BERT       original  0.4528    0.397   0.3939     0.408\n",
       "           CorrLoss  0.4037   0.3594   0.3272     0.363\n",
       "RoBERTa    original  0.4421   0.4009   0.3884    0.4116\n",
       "           CorrLoss  0.3736   0.3236   0.2816    0.3692\n",
       "Longformer original  0.4712   0.4227   0.3886    0.4219\n",
       "           CorrLoss  0.4139    0.335    0.212    0.3549"
      ]
     },
     "execution_count": 5,
     "metadata": {},
     "output_type": "execute_result"
    }
   ],
   "source": [
    "df = summary(\"PROC\", True)\n",
    "df"
   ]
  },
  {
   "cell_type": "code",
   "execution_count": 6,
   "metadata": {},
   "outputs": [
    {
     "name": "stdout",
     "output_type": "stream",
     "text": [
      "\\begin{tabular}{llllll}\n",
      "\\toprule\n",
      "           &          &    PROC & PROC+CPT & PROC+DRG & PROC+DIAG \\\\\n",
      "\\midrule\n",
      "BERT & original &  0.4528 &    0.397 &   0.3939 &     0.408 \\\\\n",
      "           & CorrLoss &  0.4037 &   0.3594 &   0.3272 &     0.363 \\\\\n",
      "RoBERTa & original &  0.4421 &   0.4009 &   0.3884 &    0.4116 \\\\\n",
      "           & CorrLoss &  0.3736 &   0.3236 &   0.2816 &    0.3692 \\\\\n",
      "Longformer & original &  0.4712 &   0.4227 &   0.3886 &    0.4219 \\\\\n",
      "           & CorrLoss &  0.4139 &    0.335 &    0.212 &    0.3549 \\\\\n",
      "\\bottomrule\n",
      "\\end{tabular}\n",
      "\n"
     ]
    },
    {
     "name": "stderr",
     "output_type": "stream",
     "text": [
      "/tmp/ipykernel_55906/2350534188.py:1: FutureWarning: In future versions `DataFrame.to_latex` is expected to utilise the base implementation of `Styler.to_latex` for formatting and rendering. The arguments signature may therefore change. It is recommended instead to use `DataFrame.style.to_latex` which also contains additional functionality.\n",
      "  print(df.to_latex())\n"
     ]
    }
   ],
   "source": [
    "print(df.to_latex())"
   ]
  },
  {
   "cell_type": "code",
   "execution_count": 7,
   "metadata": {},
   "outputs": [
    {
     "data": {
      "text/html": [
       "<div>\n",
       "<style scoped>\n",
       "    .dataframe tbody tr th:only-of-type {\n",
       "        vertical-align: middle;\n",
       "    }\n",
       "\n",
       "    .dataframe tbody tr th {\n",
       "        vertical-align: top;\n",
       "    }\n",
       "\n",
       "    .dataframe thead th {\n",
       "        text-align: right;\n",
       "    }\n",
       "</style>\n",
       "<table border=\"1\" class=\"dataframe\">\n",
       "  <thead>\n",
       "    <tr style=\"text-align: right;\">\n",
       "      <th></th>\n",
       "      <th></th>\n",
       "      <th>DIAG</th>\n",
       "      <th>DIAG+CPT</th>\n",
       "      <th>DIAG+DRG</th>\n",
       "      <th>DIAG+PROC</th>\n",
       "    </tr>\n",
       "  </thead>\n",
       "  <tbody>\n",
       "    <tr>\n",
       "      <th rowspan=\"2\" valign=\"top\">BERT</th>\n",
       "      <th>original</th>\n",
       "      <td>0.3755</td>\n",
       "      <td>0.3296</td>\n",
       "      <td>0.3351</td>\n",
       "      <td>0.3351</td>\n",
       "    </tr>\n",
       "    <tr>\n",
       "      <th>CorrLoss</th>\n",
       "      <td>0.3235</td>\n",
       "      <td>0.2966</td>\n",
       "      <td>0.2947</td>\n",
       "      <td>0.2992</td>\n",
       "    </tr>\n",
       "    <tr>\n",
       "      <th rowspan=\"2\" valign=\"top\">RoBERTa</th>\n",
       "      <th>original</th>\n",
       "      <td>0.3851</td>\n",
       "      <td>0.3255</td>\n",
       "      <td>0.3307</td>\n",
       "      <td>0.3341</td>\n",
       "    </tr>\n",
       "    <tr>\n",
       "      <th>CorrLoss</th>\n",
       "      <td>0.3143</td>\n",
       "      <td>0.2822</td>\n",
       "      <td>0.2713</td>\n",
       "      <td>0.2939</td>\n",
       "    </tr>\n",
       "    <tr>\n",
       "      <th rowspan=\"2\" valign=\"top\">Longformer</th>\n",
       "      <th>original</th>\n",
       "      <td>0.4408</td>\n",
       "      <td>0.349</td>\n",
       "      <td>0.3544</td>\n",
       "      <td>0.3552</td>\n",
       "    </tr>\n",
       "    <tr>\n",
       "      <th>CorrLoss</th>\n",
       "      <td>0.3364</td>\n",
       "      <td>0.2963</td>\n",
       "      <td>0.2906</td>\n",
       "      <td>0.3027</td>\n",
       "    </tr>\n",
       "  </tbody>\n",
       "</table>\n",
       "</div>"
      ],
      "text/plain": [
       "                       DIAG DIAG+CPT DIAG+DRG DIAG+PROC\n",
       "BERT       original  0.3755   0.3296   0.3351    0.3351\n",
       "           CorrLoss  0.3235   0.2966   0.2947    0.2992\n",
       "RoBERTa    original  0.3851   0.3255   0.3307    0.3341\n",
       "           CorrLoss  0.3143   0.2822   0.2713    0.2939\n",
       "Longformer original  0.4408    0.349   0.3544    0.3552\n",
       "           CorrLoss  0.3364   0.2963   0.2906    0.3027"
      ]
     },
     "execution_count": 7,
     "metadata": {},
     "output_type": "execute_result"
    }
   ],
   "source": [
    "df = summary(\"DIAG\", True)\n",
    "df"
   ]
  },
  {
   "cell_type": "code",
   "execution_count": 8,
   "metadata": {},
   "outputs": [
    {
     "name": "stdout",
     "output_type": "stream",
     "text": [
      "\\begin{tabular}{llllll}\n",
      "\\toprule\n",
      "           &          &    DIAG & DIAG+CPT & DIAG+DRG & DIAG+PROC \\\\\n",
      "\\midrule\n",
      "BERT & original &  0.3755 &   0.3296 &   0.3351 &    0.3351 \\\\\n",
      "           & CorrLoss &  0.3235 &   0.2966 &   0.2947 &    0.2992 \\\\\n",
      "RoBERTa & original &  0.3851 &   0.3255 &   0.3307 &    0.3341 \\\\\n",
      "           & CorrLoss &  0.3143 &   0.2822 &   0.2713 &    0.2939 \\\\\n",
      "Longformer & original &  0.4408 &    0.349 &   0.3544 &    0.3552 \\\\\n",
      "           & CorrLoss &  0.3364 &   0.2963 &   0.2906 &    0.3027 \\\\\n",
      "\\bottomrule\n",
      "\\end{tabular}\n",
      "\n"
     ]
    },
    {
     "name": "stderr",
     "output_type": "stream",
     "text": [
      "/tmp/ipykernel_55906/2350534188.py:1: FutureWarning: In future versions `DataFrame.to_latex` is expected to utilise the base implementation of `Styler.to_latex` for formatting and rendering. The arguments signature may therefore change. It is recommended instead to use `DataFrame.style.to_latex` which also contains additional functionality.\n",
      "  print(df.to_latex())\n"
     ]
    }
   ],
   "source": [
    "print(df.to_latex())"
   ]
  },
  {
   "cell_type": "code",
   "execution_count": 1,
   "metadata": {},
   "outputs": [],
   "source": [
    "import pickle as pkl\n",
    "import os "
   ]
  },
  {
   "cell_type": "code",
   "execution_count": 3,
   "metadata": {},
   "outputs": [],
   "source": [
    "files = os.listdir(\"../utils/correlation\")"
   ]
  },
  {
   "cell_type": "code",
   "execution_count": 5,
   "metadata": {},
   "outputs": [
    {
     "name": "stdout",
     "output_type": "stream",
     "text": [
      "PROC_ICD9-DRG_CODE-corr.pkl\n",
      "0    0.001099\n",
      "dtype: float64\n",
      "DIAG_ICD9-DRG_CODE-corr.pkl\n",
      "0    0.001008\n",
      "dtype: float64\n",
      "DIAG_ICD9-CPT_CD-corr.pkl\n",
      "0    0.000886\n",
      "dtype: float64\n",
      "DIAG_ICD9-PROC_ICD9-corr.pkl\n",
      "0    0.001081\n",
      "dtype: float64\n",
      "PROC_ICD9-DIAG_ICD9-corr.pkl\n",
      "0    0.001081\n",
      "dtype: float64\n",
      "PROC_ICD9-CPT_CD-corr.pkl\n",
      "0    0.001402\n",
      "dtype: float64\n"
     ]
    }
   ],
   "source": [
    "for file in files:\n",
    "    if file.endswith(\"corr.pkl\"):\n",
    "        with open(\"../utils/correlation/\" + file, \"rb\") as f:\n",
    "            corr = pkl.load(f)\n",
    "            print(file)\n",
    "            print(corr.mean(1))"
   ]
  }
 ],
 "metadata": {
  "kernelspec": {
   "display_name": "Python 3 (ipykernel)",
   "language": "python",
   "name": "python3"
  },
  "language_info": {
   "codemirror_mode": {
    "name": "ipython",
    "version": 3
   },
   "file_extension": ".py",
   "mimetype": "text/x-python",
   "name": "python",
   "nbconvert_exporter": "python",
   "pygments_lexer": "ipython3",
   "version": "3.8.13"
  }
 },
 "nbformat": 4,
 "nbformat_minor": 4
}
